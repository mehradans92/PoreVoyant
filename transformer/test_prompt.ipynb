{
 "cells": [
  {
   "cell_type": "code",
   "execution_count": 2,
   "id": "9844aa4a-e4ea-45a6-a112-0ec074aff376",
   "metadata": {},
   "outputs": [
    {
     "name": "stderr",
     "output_type": "stream",
     "text": [
      "/home/mehrad/anaconda3/envs/llm-hack/lib/python3.11/site-packages/langchain_core/_api/deprecation.py:119: LangChainDeprecationWarning: The class `OpenAIEmbeddings` was deprecated in LangChain 0.0.9 and will be removed in 0.2.0. An updated version of the class exists in the langchain-openai package and should be used instead. To use it run `pip install -U langchain-openai` and import as `from langchain_openai import OpenAIEmbeddings`.\n",
      "  warn_deprecated(\n"
     ]
    }
   ],
   "source": [
    "from langchain.chains import RetrievalQA\n",
    "from langchain.document_loaders import PyPDFLoader\n",
    "from langchain_openai import ChatOpenAI\n",
    "from langchain.text_splitter import CharacterTextSplitter\n",
    "from langchain.vectorstores import FAISS\n",
    "from langchain.embeddings.openai import OpenAIEmbeddings\n",
    "Embedding_model = 'text-embedding-ada-002' \n",
    "\n",
    "text_splitter = CharacterTextSplitter(\n",
    "    chunk_size=1000, chunk_overlap=50\n",
    ")\n",
    "\n",
    "paper_id = 1\n",
    "paper_file =f'../data/papers/{paper_id}.pdf'\n",
    "pages = PyPDFLoader(paper_file).load_and_split()\n",
    "\n",
    "sliced_pages = text_splitter.split_documents(pages)\n",
    "faiss_vectorstore = FAISS.from_documents(sliced_pages, OpenAIEmbeddings(model=Embedding_model))\n",
    "retriever = faiss_vectorstore.as_retriever(search_type='mmr',\n",
    "        search_kwargs={\"k\": 20, \"fetch_k\": 10},\n",
    "    )\n",
    "\n",
    "llm=ChatOpenAI(\n",
    "                model_name='gpt-4',\n",
    "                temperature=0.1,\n",
    "                )\n",
    "\n",
    "qa_chain = RetrievalQA.from_chain_type(llm=llm,\n",
    "                                    chain_type=\"stuff\",\n",
    "                                    retriever=retriever,\n",
    "                                    memory=None, return_source_documents=False\n",
    "                                )\n",
    "        "
   ]
  },
  {
   "cell_type": "code",
   "execution_count": 3,
   "id": "4839b009-351c-47c2-9f54-0365e7894adc",
   "metadata": {},
   "outputs": [
    {
     "name": "stderr",
     "output_type": "stream",
     "text": [
      "/home/mehrad/anaconda3/envs/llm-hack/lib/python3.11/site-packages/langchain_core/_api/deprecation.py:119: LangChainDeprecationWarning: The method `Chain.__call__` was deprecated in langchain 0.1.0 and will be removed in 0.2.0. Use invoke instead.\n",
      "  warn_deprecated(\n"
     ]
    },
    {
     "data": {
      "text/plain": [
       "{'query': 'What are the design guidelines for making the MOF have a higher band gap?',\n",
       " 'result': 'Based on the information provided, the band gap in Metal-Organic Frameworks (MOFs) can be influenced by several factors:\\n\\n1. Substituting the organic linker: The band gap can be significantly affected by exchanging the organic linker in the MOF structure. For instance, substituting hydrogen with NH2 or NO2 on the linker can reduce the band gap.\\n\\n2. Hydroxylation and Dehydroxylation: The band gap is larger for hydroxylated'}"
      ]
     },
     "execution_count": 3,
     "metadata": {},
     "output_type": "execute_result"
    }
   ],
   "source": [
    "result = qa_chain({\"query\": \"What are the design guidelines for making the MOF have a higher band gap?\"})\n",
    "result"
   ]
  },
  {
   "cell_type": "code",
   "execution_count": null,
   "id": "5a37baa4-7aef-4222-a73f-2a9409cf46d0",
   "metadata": {},
   "outputs": [],
   "source": []
  }
 ],
 "metadata": {
  "kernelspec": {
   "display_name": "llm-hack",
   "language": "python",
   "name": "llm-hack"
  },
  "language_info": {
   "codemirror_mode": {
    "name": "ipython",
    "version": 3
   },
   "file_extension": ".py",
   "mimetype": "text/x-python",
   "name": "python",
   "nbconvert_exporter": "python",
   "pygments_lexer": "ipython3",
   "version": "3.11.9"
  }
 },
 "nbformat": 4,
 "nbformat_minor": 5
}
