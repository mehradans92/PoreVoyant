{
 "cells": [
  {
   "cell_type": "code",
   "execution_count": 1,
   "metadata": {},
   "outputs": [
    {
     "name": "stderr",
     "output_type": "stream",
     "text": [
      "/home/sartaaj/Desktop/LLM-Hackathon/.conda/lib/python3.11/site-packages/tqdm/auto.py:21: TqdmWarning: IProgress not found. Please update jupyter and ipywidgets. See https://ipywidgets.readthedocs.io/en/stable/user_install.html\n",
      "  from .autonotebook import tqdm as notebook_tqdm\n"
     ]
    },
    {
     "name": "stdout",
     "output_type": "stream",
     "text": [
      "Running on: cuda:0\n",
      "loaded: pos_encoder.pe\n",
      "loaded: transformer_encoder.layers.0.self_attn.in_proj_weight\n",
      "loaded: transformer_encoder.layers.0.self_attn.in_proj_bias\n",
      "loaded: transformer_encoder.layers.0.self_attn.out_proj.weight\n",
      "loaded: transformer_encoder.layers.0.self_attn.out_proj.bias\n",
      "loaded: transformer_encoder.layers.0.linear1.weight\n",
      "loaded: transformer_encoder.layers.0.linear1.bias\n",
      "loaded: transformer_encoder.layers.0.linear2.weight\n",
      "loaded: transformer_encoder.layers.0.linear2.bias\n",
      "loaded: transformer_encoder.layers.0.norm1.weight\n",
      "loaded: transformer_encoder.layers.0.norm1.bias\n",
      "loaded: transformer_encoder.layers.0.norm2.weight\n",
      "loaded: transformer_encoder.layers.0.norm2.bias\n",
      "loaded: transformer_encoder.layers.1.self_attn.in_proj_weight\n",
      "loaded: transformer_encoder.layers.1.self_attn.in_proj_bias\n",
      "loaded: transformer_encoder.layers.1.self_attn.out_proj.weight\n",
      "loaded: transformer_encoder.layers.1.self_attn.out_proj.bias\n",
      "loaded: transformer_encoder.layers.1.linear1.weight\n",
      "loaded: transformer_encoder.layers.1.linear1.bias\n",
      "loaded: transformer_encoder.layers.1.linear2.weight\n",
      "loaded: transformer_encoder.layers.1.linear2.bias\n",
      "loaded: transformer_encoder.layers.1.norm1.weight\n",
      "loaded: transformer_encoder.layers.1.norm1.bias\n",
      "loaded: transformer_encoder.layers.1.norm2.weight\n",
      "loaded: transformer_encoder.layers.1.norm2.bias\n",
      "loaded: transformer_encoder.layers.2.self_attn.in_proj_weight\n",
      "loaded: transformer_encoder.layers.2.self_attn.in_proj_bias\n",
      "loaded: transformer_encoder.layers.2.self_attn.out_proj.weight\n",
      "loaded: transformer_encoder.layers.2.self_attn.out_proj.bias\n",
      "loaded: transformer_encoder.layers.2.linear1.weight\n",
      "loaded: transformer_encoder.layers.2.linear1.bias\n",
      "loaded: transformer_encoder.layers.2.linear2.weight\n",
      "loaded: transformer_encoder.layers.2.linear2.bias\n",
      "loaded: transformer_encoder.layers.2.norm1.weight\n",
      "loaded: transformer_encoder.layers.2.norm1.bias\n",
      "loaded: transformer_encoder.layers.2.norm2.weight\n",
      "loaded: transformer_encoder.layers.2.norm2.bias\n",
      "loaded: transformer_encoder.layers.3.self_attn.in_proj_weight\n",
      "loaded: transformer_encoder.layers.3.self_attn.in_proj_bias\n",
      "loaded: transformer_encoder.layers.3.self_attn.out_proj.weight\n",
      "loaded: transformer_encoder.layers.3.self_attn.out_proj.bias\n",
      "loaded: transformer_encoder.layers.3.linear1.weight\n",
      "loaded: transformer_encoder.layers.3.linear1.bias\n",
      "loaded: transformer_encoder.layers.3.linear2.weight\n",
      "loaded: transformer_encoder.layers.3.linear2.bias\n",
      "loaded: transformer_encoder.layers.3.norm1.weight\n",
      "loaded: transformer_encoder.layers.3.norm1.bias\n",
      "loaded: transformer_encoder.layers.3.norm2.weight\n",
      "loaded: transformer_encoder.layers.3.norm2.bias\n",
      "loaded: transformer_encoder.layers.4.self_attn.in_proj_weight\n",
      "loaded: transformer_encoder.layers.4.self_attn.in_proj_bias\n",
      "loaded: transformer_encoder.layers.4.self_attn.out_proj.weight\n",
      "loaded: transformer_encoder.layers.4.self_attn.out_proj.bias\n",
      "loaded: transformer_encoder.layers.4.linear1.weight\n",
      "loaded: transformer_encoder.layers.4.linear1.bias\n",
      "loaded: transformer_encoder.layers.4.linear2.weight\n",
      "loaded: transformer_encoder.layers.4.linear2.bias\n",
      "loaded: transformer_encoder.layers.4.norm1.weight\n",
      "loaded: transformer_encoder.layers.4.norm1.bias\n",
      "loaded: transformer_encoder.layers.4.norm2.weight\n",
      "loaded: transformer_encoder.layers.4.norm2.bias\n",
      "loaded: transformer_encoder.layers.5.self_attn.in_proj_weight\n",
      "loaded: transformer_encoder.layers.5.self_attn.in_proj_bias\n",
      "loaded: transformer_encoder.layers.5.self_attn.out_proj.weight\n",
      "loaded: transformer_encoder.layers.5.self_attn.out_proj.bias\n",
      "loaded: transformer_encoder.layers.5.linear1.weight\n",
      "loaded: transformer_encoder.layers.5.linear1.bias\n",
      "loaded: transformer_encoder.layers.5.linear2.weight\n",
      "loaded: transformer_encoder.layers.5.linear2.bias\n",
      "loaded: transformer_encoder.layers.5.norm1.weight\n",
      "loaded: transformer_encoder.layers.5.norm1.bias\n",
      "loaded: transformer_encoder.layers.5.norm2.weight\n",
      "loaded: transformer_encoder.layers.5.norm2.bias\n",
      "loaded: token_encoder.weight\n",
      "Loaded pre-trained model with success.\n"
     ]
    }
   ],
   "source": [
    "from ft_model import predictBandGap"
   ]
  },
  {
   "cell_type": "code",
   "execution_count": 3,
   "metadata": {},
   "outputs": [
    {
     "data": {
      "text/plain": [
       "tensor([[4.0581]], device='cuda:0', grad_fn=<AddmmBackward0>)"
      ]
     },
     "execution_count": 3,
     "metadata": {},
     "output_type": "execute_result"
    }
   ],
   "source": [
    "predictBandGap('[Zn]12.OC(=O)C1=CC=C(C=C1)C(O2)=O')"
   ]
  },
  {
   "cell_type": "code",
   "execution_count": null,
   "metadata": {},
   "outputs": [],
   "source": []
  }
 ],
 "metadata": {
  "kernelspec": {
   "display_name": "Python 3",
   "language": "python",
   "name": "python3"
  },
  "language_info": {
   "codemirror_mode": {
    "name": "ipython",
    "version": 3
   },
   "file_extension": ".py",
   "mimetype": "text/x-python",
   "name": "python",
   "nbconvert_exporter": "python",
   "pygments_lexer": "ipython3",
   "version": "3.11.9"
  }
 },
 "nbformat": 4,
 "nbformat_minor": 2
}
