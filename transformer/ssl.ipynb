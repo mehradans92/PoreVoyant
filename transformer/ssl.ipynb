{
 "cells": [
  {
   "cell_type": "markdown",
   "metadata": {},
   "source": [
    "SSL pipeline (Barlow-Twin)"
   ]
  },
  {
   "cell_type": "code",
   "execution_count": 2,
   "metadata": {},
   "outputs": [],
   "source": [
    "import json\n",
    "\n",
    "import numpy as np\n",
    "import pandas as pd\n",
    "import matplotlib.pyplot as plt\n",
    "\n",
    "import psutil"
   ]
  },
  {
   "cell_type": "code",
   "execution_count": 3,
   "metadata": {},
   "outputs": [],
   "source": [
    "#from keras.layers.merge import add\n",
    "import matplotlib.pyplot as plt\n",
    "import os\n",
    "import scipy"
   ]
  },
  {
   "cell_type": "code",
   "execution_count": 4,
   "metadata": {},
   "outputs": [],
   "source": [
    "import torch\n",
    "import torch.nn as nn\n",
    "import torch.nn.functional as F\n",
    "import torch.optim as optim\n",
    "from torch.autograd import Variable\n",
    "from torch.utils.data import Dataset, DataLoader, random_split\n",
    "from torch import nn, Tensor\n",
    "import pickle"
   ]
  },
  {
   "cell_type": "code",
   "execution_count": 5,
   "metadata": {},
   "outputs": [
    {
     "name": "stderr",
     "output_type": "stream",
     "text": [
      "/home/sartaaj/.local/lib/python3.10/site-packages/tqdm/auto.py:21: TqdmWarning: IProgress not found. Please update jupyter and ipywidgets. See https://ipywidgets.readthedocs.io/en/stable/user_install.html\n",
      "  from .autonotebook import tqdm as notebook_tqdm\n"
     ]
    }
   ],
   "source": [
    "#from MOFormer_modded.transformer import Transformer, TransformerRegressor\n",
    "from MOFormer_modded.dataset_modded import MOF_ID_Dataset\n",
    "from MOFormer_modded.tokenizer.mof_tokenizer import MOFTokenizer\n",
    "import csv\n",
    "import yaml\n",
    "from MOFormer_modded.model.utils import *"
   ]
  },
  {
   "cell_type": "code",
   "execution_count": 6,
   "metadata": {},
   "outputs": [],
   "source": [
    "import warnings\n",
    "from CGCNN.extract import extractFeaturesCGCNN\n",
    "from CGCNN.extract import collate_pool_mod\n",
    "from CGCNN.cgcnn_pretrain import CrystalGraphConvNet"
   ]
  },
  {
   "cell_type": "code",
   "execution_count": 7,
   "metadata": {},
   "outputs": [
    {
     "name": "stdout",
     "output_type": "stream",
     "text": [
      "Running on: cuda:0\n"
     ]
    }
   ],
   "source": [
    "tokenizer = MOFTokenizer(\"MOFormer_modded/tokenizer/vocab_full.txt\")\n",
    "config = yaml.load(open(\"MOFormer_modded/config_ft_transformer.yaml\", \"r\"), Loader=yaml.FullLoader)\n",
    "config['dataloader']['randomSeed'] = 0\n",
    "\n",
    "if torch.cuda.is_available() and config['gpu'] != 'cpu':\n",
    "    device = config['gpu']\n",
    "    torch.cuda.set_device(device)\n",
    "    config['cuda'] = True\n",
    "\n",
    "else:\n",
    "    device = 'cpu'\n",
    "    config['cuda'] = False\n",
    "print(\"Running on:\", device)"
   ]
  },
  {
   "cell_type": "code",
   "execution_count": 8,
   "metadata": {},
   "outputs": [],
   "source": [
    "from MOFormer_modded.transformer import PositionalEncoding\n",
    "from torch.nn import TransformerEncoder, TransformerEncoderLayer\n",
    "import math\n",
    "\n",
    "class Transformer(nn.Module):\n",
    "\n",
    "    def __init__(self, ntoken: int, d_model: int, nhead: int, d_hid: int,\n",
    "                 nlayers: int, dropout: float = 0.1):\n",
    "        super().__init__()\n",
    "        self.model_type = 'Transformer'\n",
    "        self.pos_encoder = PositionalEncoding(d_model, dropout)\n",
    "        encoder_layers = TransformerEncoderLayer(d_model, nhead, d_hid, dropout, batch_first=True)\n",
    "        self.transformer_encoder = TransformerEncoder(encoder_layers, nlayers)\n",
    "        self.token_encoder = nn.Embedding(ntoken, d_model)\n",
    "        self.d_model = d_model\n",
    "\n",
    "        self.init_weights()\n",
    "\n",
    "    def init_weights(self) -> None:\n",
    "        # initrange = 0.1\n",
    "        # self.encoder.weight.data.uniform_(-initrange, initrange)\n",
    "        nn.init.xavier_normal_(self.token_encoder.weight)\n",
    "\n",
    "    def forward(self, src: Tensor) -> Tensor:\n",
    "        \"\"\"\n",
    "        Args:\n",
    "            src: Tensor, shape [seq_len, batch_size]\n",
    "            src_mask: Tensor, shape [seq_len, seq_len]\n",
    "\n",
    "        Returns:\n",
    "            output Tensor of shape [seq_len, batch_size, ntoken]\n",
    "        \"\"\"\n",
    "        src = self.token_encoder(src) * math.sqrt(self.d_model)\n",
    "        src = self.pos_encoder(src)\n",
    "        output = self.transformer_encoder(src)\n",
    "        output = output[:, 0:1, :] #this was added in by me\n",
    "\n",
    "        return output.squeeze(dim = 1) #this was added in by me\n",
    "        #return output"
   ]
  },
  {
   "cell_type": "code",
   "execution_count": 9,
   "metadata": {},
   "outputs": [],
   "source": [
    "transformer_SMILES = Transformer(**config['Transformer'])\n",
    "model = Transformer(**config['Transformer']).to(device)"
   ]
  },
  {
   "cell_type": "code",
   "execution_count": 10,
   "metadata": {},
   "outputs": [],
   "source": [
    "with open('BW20K/ssl_ds_graph.pickle', 'rb') as handle:\n",
    "    ssl_ds_graph = pickle.load(handle)\n",
    "\n",
    "with open('BW20K/ssl_smiles.pickle', 'rb') as handle:\n",
    "    ssl_smiles = pickle.load(handle)"
   ]
  },
  {
   "cell_type": "code",
   "execution_count": 11,
   "metadata": {},
   "outputs": [
    {
     "name": "stdout",
     "output_type": "stream",
     "text": [
      "Full pretraining set size is 133\n"
     ]
    }
   ],
   "source": [
    "data_size = len(ssl_smiles) #should give 8.5k entries for CoRE-2019\n",
    "print(f'Full pretraining set size is {data_size}')\n",
    "split_ratio = 0.95 #train set %\n",
    "train_size = int(split_ratio * data_size)"
   ]
  },
  {
   "cell_type": "code",
   "execution_count": 12,
   "metadata": {},
   "outputs": [
    {
     "data": {
      "text/plain": [
       "(133, 64, 512)"
      ]
     },
     "execution_count": 12,
     "metadata": {},
     "output_type": "execute_result"
    }
   ],
   "source": [
    "ssl_smiles.shape"
   ]
  },
  {
   "cell_type": "code",
   "execution_count": 13,
   "metadata": {},
   "outputs": [],
   "source": [
    "ssl_smiles_train, ssl_graph_train = ssl_smiles[:train_size], ssl_ds_graph[:train_size]\n",
    "ssl_smiles_val, ssl_graph_val = ssl_smiles[train_size-1::], ssl_ds_graph[train_size-1::]"
   ]
  },
  {
   "cell_type": "code",
   "execution_count": 14,
   "metadata": {},
   "outputs": [
    {
     "name": "stdout",
     "output_type": "stream",
     "text": [
      "1\n",
      "1\n",
      "1\n",
      "1\n"
     ]
    }
   ],
   "source": [
    "orig_atom_fea_len, nbr_fea_len = extractFeaturesCGCNN('BW20K/00958972.2016.1253069_1472494_clean.cif').featureLengths()\n",
    "\n",
    "config_crystal = yaml.load(open(\"CGCNN/config_ft_cgcnn.yaml\", \"r\"), Loader=yaml.FullLoader) #configurations for CGCNN\n",
    "\n",
    "config_crystal['model']['orig_atom_fea_len'] = orig_atom_fea_len\n",
    "config_crystal['model']['nbr_fea_len'] = nbr_fea_len\n",
    "\n",
    "model_g = CrystalGraphConvNet(**config_crystal['model']).to(device)"
   ]
  },
  {
   "cell_type": "code",
   "execution_count": 15,
   "metadata": {},
   "outputs": [],
   "source": [
    "from SSL.barlow_twins import BarlowTwinsLoss\n",
    "\n",
    "loss = BarlowTwinsLoss(device = device, batch_size = 64, embed_size = 512, lambd = 0.0051) #same parameters as in moformer\n",
    "\n",
    "optimizer_g = optim.Adam(model_g.parameters(), lr = 0.00005)\n",
    "optimizer_t = optim.Adam(model.parameters(), lr = 0.00005)"
   ]
  },
  {
   "cell_type": "code",
   "execution_count": 16,
   "metadata": {},
   "outputs": [
    {
     "name": "stdout",
     "output_type": "stream",
     "text": [
      "Epoch : 1\n",
      "Ensembled Loss : 417.2291741749597, Val. Ensembled Loss : 300.11638259887695\n",
      "###############################\n",
      "Epoch : 2\n",
      "Ensembled Loss : 266.1845873878116, Val. Ensembled Loss : 237.77249336242676\n",
      "###############################\n",
      "Epoch : 3\n",
      "Ensembled Loss : 221.06421927800255, Val. Ensembled Loss : 201.29877471923828\n",
      "###############################\n",
      "Epoch : 4\n",
      "Ensembled Loss : 193.00677671886626, Val. Ensembled Loss : 186.0408420562744\n",
      "###############################\n",
      "Epoch : 5\n",
      "Ensembled Loss : 172.15869019523498, Val. Ensembled Loss : 158.97521781921387\n",
      "###############################\n",
      "Epoch : 6\n",
      "Ensembled Loss : 154.2812261430044, Val. Ensembled Loss : 147.70775413513184\n",
      "###############################\n",
      "Epoch : 7\n",
      "Ensembled Loss : 144.60059284028551, Val. Ensembled Loss : 138.9373950958252\n",
      "###############################\n",
      "Epoch : 8\n",
      "Ensembled Loss : 137.14277140299478, Val. Ensembled Loss : 133.8665370941162\n",
      "###############################\n",
      "Epoch : 9\n",
      "Ensembled Loss : 133.01280085245767, Val. Ensembled Loss : 130.99969577789307\n",
      "###############################\n",
      "Epoch : 10\n",
      "Ensembled Loss : 129.29103276086232, Val. Ensembled Loss : 127.38501358032227\n",
      "###############################\n",
      "Epoch : 11\n",
      "Ensembled Loss : 123.87279601324173, Val. Ensembled Loss : 123.90785312652588\n",
      "###############################\n",
      "Epoch : 12\n",
      "Ensembled Loss : 119.51691037132626, Val. Ensembled Loss : 119.36561393737793\n",
      "###############################\n",
      "Epoch : 13\n",
      "Ensembled Loss : 114.71947079613095, Val. Ensembled Loss : 113.21724796295166\n",
      "###############################\n",
      "Epoch : 14\n",
      "Ensembled Loss : 109.75294028388129, Val. Ensembled Loss : 108.99206829071045\n",
      "###############################\n",
      "Epoch : 15\n",
      "Ensembled Loss : 105.98559140402173, Val. Ensembled Loss : 105.36179161071777\n",
      "###############################\n",
      "Epoch : 16\n",
      "Ensembled Loss : 102.61276366218688, Val. Ensembled Loss : 101.87643718719482\n",
      "###############################\n",
      "Epoch : 17\n",
      "Ensembled Loss : 99.56289902944414, Val. Ensembled Loss : 99.2096061706543\n",
      "###############################\n",
      "Epoch : 18\n",
      "Ensembled Loss : 96.44853706965371, Val. Ensembled Loss : 95.96244812011719\n",
      "###############################\n",
      "Epoch : 19\n",
      "Ensembled Loss : 93.29041260007828, Val. Ensembled Loss : 92.7171401977539\n",
      "###############################\n",
      "Epoch : 20\n",
      "Ensembled Loss : 90.61549976893834, Val. Ensembled Loss : 91.40776538848877\n",
      "###############################\n",
      "Epoch : 21\n",
      "Ensembled Loss : 88.70006991189624, Val. Ensembled Loss : 90.26687431335449\n",
      "###############################\n",
      "Epoch : 22\n",
      "Ensembled Loss : 86.97215040903242, Val. Ensembled Loss : 88.93197727203369\n",
      "###############################\n",
      "Epoch : 23\n",
      "Ensembled Loss : 85.20707581535218, Val. Ensembled Loss : 87.21816158294678\n",
      "###############################\n",
      "Epoch : 24\n",
      "Ensembled Loss : 83.50257183256603, Val. Ensembled Loss : 86.24091625213623\n",
      "###############################\n",
      "Epoch : 25\n",
      "Ensembled Loss : 82.08187545291962, Val. Ensembled Loss : 84.916579246521\n",
      "###############################\n",
      "Epoch : 26\n",
      "Ensembled Loss : 80.782713148329, Val. Ensembled Loss : 83.37203025817871\n",
      "###############################\n",
      "Epoch : 27\n",
      "Ensembled Loss : 79.44310003613668, Val. Ensembled Loss : 82.4655647277832\n",
      "###############################\n",
      "Epoch : 28\n",
      "Ensembled Loss : 78.38427371070499, Val. Ensembled Loss : 81.90990734100342\n",
      "###############################\n",
      "Epoch : 29\n",
      "Ensembled Loss : 77.30271929786319, Val. Ensembled Loss : 81.26210975646973\n",
      "###############################\n",
      "Epoch : 30\n",
      "Ensembled Loss : 76.22935328407893, Val. Ensembled Loss : 80.19462394714355\n",
      "###############################\n",
      "Epoch : 31\n",
      "Ensembled Loss : 75.3264921884688, Val. Ensembled Loss : 79.25554370880127\n",
      "###############################\n",
      "Epoch : 32\n",
      "Ensembled Loss : 74.47106570289249, Val. Ensembled Loss : 78.93407917022705\n",
      "###############################\n",
      "Epoch : 33\n",
      "Ensembled Loss : 73.72152140783885, Val. Ensembled Loss : 78.26282501220703\n",
      "###############################\n",
      "Epoch : 34\n"
     ]
    },
    {
     "ename": "KeyboardInterrupt",
     "evalue": "",
     "output_type": "error",
     "traceback": [
      "\u001b[0;31m---------------------------------------------------------------------------\u001b[0m",
      "\u001b[0;31mKeyboardInterrupt\u001b[0m                         Traceback (most recent call last)",
      "Cell \u001b[0;32mIn[16], line 18\u001b[0m\n\u001b[1;32m     16\u001b[0m loss_ensemble \u001b[38;5;241m=\u001b[39m []\n\u001b[1;32m     17\u001b[0m \u001b[38;5;28;01mfor\u001b[39;00m bn, (graph, smiles) \u001b[38;5;129;01min\u001b[39;00m \u001b[38;5;28menumerate\u001b[39m(\u001b[38;5;28mzip\u001b[39m(ssl_graph_train, ssl_smiles_train)):\n\u001b[0;32m---> 18\u001b[0m     input_graph_1 \u001b[38;5;241m=\u001b[39m (\u001b[43mVariable\u001b[49m\u001b[43m(\u001b[49m\u001b[43mgraph\u001b[49m\u001b[43m[\u001b[49m\u001b[38;5;241;43m0\u001b[39;49m\u001b[43m]\u001b[49m\u001b[43m)\u001b[49m\u001b[38;5;241;43m.\u001b[39;49m\u001b[43mto\u001b[49m\u001b[43m(\u001b[49m\u001b[43mdevice\u001b[49m\u001b[43m)\u001b[49m,\n\u001b[1;32m     19\u001b[0m                     Variable(graph[\u001b[38;5;241m1\u001b[39m])\u001b[38;5;241m.\u001b[39mto(device),\n\u001b[1;32m     20\u001b[0m                     Variable(graph[\u001b[38;5;241m2\u001b[39m])\u001b[38;5;241m.\u001b[39mto(device),\n\u001b[1;32m     21\u001b[0m                     [crys_idx\u001b[38;5;241m.\u001b[39mto(device) \u001b[38;5;28;01mfor\u001b[39;00m crys_idx \u001b[38;5;129;01min\u001b[39;00m graph[\u001b[38;5;241m3\u001b[39m]])\n\u001b[1;32m     23\u001b[0m     \u001b[38;5;66;03m#xrd = torch.tensor(xrd, dtype = torch.float).to(device)\u001b[39;00m\n\u001b[1;32m     24\u001b[0m     smiles \u001b[38;5;241m=\u001b[39m torch\u001b[38;5;241m.\u001b[39mfrom_numpy(smiles)\u001b[38;5;241m.\u001b[39mto(device)\n",
      "\u001b[0;31mKeyboardInterrupt\u001b[0m: "
     ]
    }
   ],
   "source": [
    "#now, test for 100 epoch?\n",
    "\n",
    "num_epoch = 50\n",
    "loss_history = []\n",
    "val_history = []\n",
    "n_iter = 0\n",
    "valid_n_iter = 0\n",
    "best_valid_loss = np.inf\n",
    "norm = False #should embeddings be normalized? in crystal-twin, they don't but for barlow-twin, it's in the algorithm\n",
    "\n",
    "for epoch in range(num_epoch):\n",
    "    model_g.train()\n",
    "    model.train()\n",
    "\n",
    "    print(f'Epoch : {epoch + 1}')\n",
    "    loss_ensemble = []\n",
    "    for bn, (graph, smiles) in enumerate(zip(ssl_graph_train, ssl_smiles_train)):\n",
    "        input_graph_1 = (Variable(graph[0]).to(device),\n",
    "                        Variable(graph[1]).to(device),\n",
    "                        Variable(graph[2]).to(device),\n",
    "                        [crys_idx.to(device) for crys_idx in graph[3]])\n",
    "        \n",
    "        #xrd = torch.tensor(xrd, dtype = torch.float).to(device)\n",
    "        smiles = torch.from_numpy(smiles).to(device)\n",
    "        \n",
    "        z_a = model_g(*input_graph_1) #embedding from cgcnn\n",
    "        z_b = model(smiles) #embedding from transformer\n",
    "\n",
    "        if norm == True:\n",
    "            z_a_norm = (z_a - torch.mean(z_a, axis = 0))/torch.std(z_a, axis = 0)\n",
    "            z_b_norm = (z_b - torch.mean(z_b, axis = 0))/torch.std(z_b, axis = 0)\n",
    "        \n",
    "        else:\n",
    "            z_a_norm = z_a\n",
    "            z_b_norm = z_b\n",
    "\n",
    "        loss_calc = loss(z_a_norm, z_b_norm)\n",
    "        loss_ensemble.append(loss_calc.item())\n",
    "\n",
    "        optimizer_g.zero_grad()\n",
    "        optimizer_t.zero_grad()\n",
    "\n",
    "        loss_calc.backward()\n",
    "\n",
    "        optimizer_g.step()\n",
    "        optimizer_t.step()\n",
    "    \n",
    "    torch.cuda.empty_cache()\n",
    "    val_ensemble = []\n",
    "\n",
    "    with torch.no_grad():\n",
    "        model.eval()\n",
    "        model_g.eval()\n",
    "        for bn, (graph, smiles) in enumerate(zip(ssl_graph_val, ssl_smiles_val)):\n",
    "            input_graph_1 = (Variable(graph[0]).to(device),\n",
    "                            Variable(graph[1]).to(device),\n",
    "                            Variable(graph[2]).to(device),\n",
    "                            [crys_idx.to(device) for crys_idx in graph[3]])\n",
    "            \n",
    "            #xrd = torch.tensor(xrd, dtype = torch.float).to(device)\n",
    "            smiles = torch.from_numpy(smiles).to(device)\n",
    "\n",
    "            z_a = model_g(*input_graph_1)\n",
    "            z_b = model(smiles)\n",
    "\n",
    "            if norm == True:\n",
    "                z_a_norm = (z_a - torch.mean(z_a, axis = 0))/torch.std(z_a, axis = 0)\n",
    "                z_b_norm = (z_b - torch.mean(z_b, axis = 0))/torch.std(z_b, axis = 0)\n",
    "            else:\n",
    "                z_a_norm = z_a\n",
    "                z_b_norm = z_b\n",
    "            \n",
    "            valid_loss = loss(z_a_norm, z_b_norm)\n",
    "            val_ensemble.append(valid_loss.item())\n",
    "\n",
    "        val_history.append(np.mean(val_ensemble))\n",
    "        if np.mean(val_ensemble) < best_valid_loss:\n",
    "            best_valid_loss = np.mean(val_ensemble)\n",
    "            \n",
    "            #save the models here?\n",
    "            torch.save(model.state_dict(), os.path.join('SSL/pretrained/transformer', f'model_t_{epoch}.pth'))\n",
    "            torch.save(model_g.state_dict(), os.path.join('SSL/pretrained/cgcnn', f'model_g_{epoch}.pth'))\n",
    "\n",
    "    \n",
    "    loss_history.append(np.mean(loss_ensemble))\n",
    "    print(f'Ensembled Loss : {loss_history[-1]}, Val. Ensembled Loss : {val_history[-1]}')\n",
    "    print('###############################')"
   ]
  },
  {
   "cell_type": "code",
   "execution_count": 17,
   "metadata": {},
   "outputs": [
    {
     "data": {
      "text/plain": [
       "<matplotlib.legend.Legend at 0x7ff7bc220070>"
      ]
     },
     "execution_count": 17,
     "metadata": {},
     "output_type": "execute_result"
    },
    {
     "data": {
      "image/png": "[encoded data removed]",
      "text/plain": [
       "<Figure size 640x480 with 1 Axes>"
      ]
     },
     "metadata": {},
     "output_type": "display_data"
    }
   ],
   "source": [
    "plt.plot(loss_history, label = 'Train')\n",
    "plt.plot(val_history, label = 'Val')\n",
    "plt.ylabel('loss')\n",
    "plt.xlabel('epoch')\n",
    "\n",
    "plt.legend(loc = 'upper right')"
   ]
  },
  {
   "cell_type": "code",
   "execution_count": null,
   "metadata": {},
   "outputs": [],
   "source": [
    "#not really learning - why? maybe compare to MOFormer and see how much their loss decreased by.\n",
    "#edit: issue fixed, initially set learning rate -> 0.0051 but it was too high (must have gotten stuck in a local minima somewhere) - it is learning now."
   ]
  }
 ],
 "metadata": {
  "kernelspec": {
   "display_name": "Python 3",
   "language": "python",
   "name": "python3"
  },
  "language_info": {
   "codemirror_mode": {
    "name": "ipython",
    "version": 3
   },
   "file_extension": ".py",
   "mimetype": "text/x-python",
   "name": "python",
   "nbconvert_exporter": "python",
   "pygments_lexer": "ipython3",
   "version": "3.10.12"
  }
 },
 "nbformat": 4,
 "nbformat_minor": 2
}
